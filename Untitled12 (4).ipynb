{
 "cells": [
  {
   "cell_type": "code",
   "execution_count": 1,
   "id": "4829502d-ed9c-4d56-9494-18a37b5e2bd5",
   "metadata": {},
   "outputs": [],
   "source": [
    "s = \"this is my frist python programing class and i am learning python string and its functions\""
   ]
  },
  {
   "cell_type": "code",
   "execution_count": 2,
   "id": "94b3163d-0f6d-4ef3-a225-cf155b114f46",
   "metadata": {},
   "outputs": [
    {
     "data": {
      "text/plain": [
       "'h   i tnrri a d  ai tntna sutn'"
      ]
     },
     "execution_count": 2,
     "metadata": {},
     "output_type": "execute_result"
    }
   ],
   "source": [
    "s[1:300:3]"
   ]
  },
  {
   "cell_type": "code",
   "execution_count": 3,
   "id": "cd886a5a-a726-4a78-abd8-6c543cd2b952",
   "metadata": {},
   "outputs": [],
   "source": [
    "s1 = \"We are learning problem solving using camputation\""
   ]
  },
  {
   "cell_type": "markdown",
   "id": "90b014e7-794e-406f-9411-63f0de75865a",
   "metadata": {},
   "source": [
    "# Exatract data from 1 to 10 with a jump of 2\n",
    "s1[1:11:2]"
   ]
  },
  {
   "cell_type": "markdown",
   "id": "bd07a80e-aa2d-4832-ae77-11bb3622882f",
   "metadata": {},
   "source": [
    "# try to reverse a string without using reverse functions"
   ]
  },
  {
   "cell_type": "code",
   "execution_count": 11,
   "id": "1283c40e-00a1-49de-8d35-07924bb55680",
   "metadata": {},
   "outputs": [
    {
     "data": {
      "text/plain": [
       "'snoitcnuf sti dna gnirts nohtyp gninrael ma i dna ssalc gnimargorp nohtyp tsirf ym si siht'"
      ]
     },
     "execution_count": 11,
     "metadata": {},
     "output_type": "execute_result"
    }
   ],
   "source": [
    "s[::-1]"
   ]
  },
  {
   "cell_type": "code",
   "execution_count": 13,
   "id": "675c5b8b-fe88-4272-a949-8397f87be3f8",
   "metadata": {},
   "outputs": [
    {
     "data": {
      "text/plain": [
       "['THIS',\n",
       " 'IS',\n",
       " 'MY',\n",
       " 'FRIST',\n",
       " 'PYTHON',\n",
       " 'PROGRAMING',\n",
       " 'CLASS',\n",
       " 'AND',\n",
       " 'I',\n",
       " 'AM',\n",
       " 'LEARNING',\n",
       " 'PYTHON',\n",
       " 'STRING',\n",
       " 'AND',\n",
       " 'ITS',\n",
       " 'FUNCTIONS']"
      ]
     },
     "execution_count": 13,
     "metadata": {},
     "output_type": "execute_result"
    }
   ],
   "source": [
    "s1 = s.upper()\n",
    "s1.split()"
   ]
  },
  {
   "cell_type": "markdown",
   "id": "ab9d9e4b-b4af-4194-8ad3-43bb6c9ebd85",
   "metadata": {},
   "source": [
    "# try to convert the whole string into lower case"
   ]
  },
  {
   "cell_type": "code",
   "execution_count": 14,
   "id": "4099f51a-6611-4752-ae2f-6886d64e3349",
   "metadata": {},
   "outputs": [
    {
     "data": {
      "text/plain": [
       "'this is my frist python programing class and i am learning python string and its functions'"
      ]
     },
     "execution_count": 14,
     "metadata": {},
     "output_type": "execute_result"
    }
   ],
   "source": [
    "s1.lower()"
   ]
  },
  {
   "cell_type": "markdown",
   "id": "7082eae0-792e-4bb5-932a-cb44e459fde0",
   "metadata": {},
   "source": [
    "# try to capitalize the whole string"
   ]
  },
  {
   "cell_type": "code",
   "execution_count": 15,
   "id": "68bd0a2d-1f23-40cd-b38b-e05aa73a1621",
   "metadata": {},
   "outputs": [
    {
     "data": {
      "text/plain": [
       "'This is my frist python programing class and i am learning python string and its functions'"
      ]
     },
     "execution_count": 15,
     "metadata": {},
     "output_type": "execute_result"
    }
   ],
   "source": [
    "s.capitalize()"
   ]
  },
  {
   "cell_type": "markdown",
   "id": "512a2ae1-38e1-431d-aefd-60419080c1a9",
   "metadata": {},
   "source": [
    "# write the difference between isalnum() and isalpha()"
   ]
  },
  {
   "cell_type": "code",
   "execution_count": null,
   "id": "af58ec7b-2458-4ddb-959c-d5260c075446",
   "metadata": {},
   "outputs": [],
   "source": []
  },
  {
   "cell_type": "code",
   "execution_count": null,
   "id": "3f1a75c3-32d8-4400-a6c3-e30a1ce18ab3",
   "metadata": {},
   "outputs": [],
   "source": []
  },
  {
   "cell_type": "code",
   "execution_count": null,
   "id": "5f673d9f-57e4-4f45-b3a2-a30fe22e0fd1",
   "metadata": {},
   "outputs": [],
   "source": []
  },
  {
   "cell_type": "code",
   "execution_count": null,
   "id": "3289270d-3ca3-46a0-b5d8-f0bbd97b0607",
   "metadata": {},
   "outputs": [],
   "source": []
  },
  {
   "cell_type": "markdown",
   "id": "5b3dc800-5bd6-40ca-8a27-62b27142018d",
   "metadata": {},
   "source": [
    "# try to give an example of expand tab"
   ]
  },
  {
   "cell_type": "code",
   "execution_count": 18,
   "id": "822bdc4b-fcad-4873-a620-71970d34f36a",
   "metadata": {},
   "outputs": [],
   "source": [
    "exp = \"this\\tis\\ta\\texample\""
   ]
  },
  {
   "cell_type": "code",
   "execution_count": 20,
   "id": "725a0448-ae56-4f5d-85d8-946b091282ee",
   "metadata": {},
   "outputs": [
    {
     "data": {
      "text/plain": [
       "'this  is  a example'"
      ]
     },
     "execution_count": 20,
     "metadata": {},
     "output_type": "execute_result"
    }
   ],
   "source": [
    "exp.expandtabs(2)"
   ]
  },
  {
   "cell_type": "code",
   "execution_count": 21,
   "id": "3e493a55-8937-40f4-b8db-e33b12d13d91",
   "metadata": {},
   "outputs": [
    {
     "data": {
      "text/plain": [
       "'this  is a  example'"
      ]
     },
     "execution_count": 21,
     "metadata": {},
     "output_type": "execute_result"
    }
   ],
   "source": [
    "exp.expandtabs(3)"
   ]
  },
  {
   "cell_type": "markdown",
   "id": "876b5aa6-e34e-47ab-9430-8d3926588ea7",
   "metadata": {},
   "source": [
    "# Give an example of strip,lstrip and rstrip"
   ]
  },
  {
   "cell_type": "code",
   "execution_count": 29,
   "id": "44d393d3-16d7-4341-aad6-ccfe26f393eb",
   "metadata": {},
   "outputs": [
    {
     "data": {
      "text/plain": [
       "'this is my frist python programing class and i am learning python string and its functions'"
      ]
     },
     "execution_count": 29,
     "metadata": {},
     "output_type": "execute_result"
    }
   ],
   "source": [
    "#1 example of strip:\n",
    "s1= \"@@@22@hey!! ayush@2@@@\"\n",
    "s.strip(\"@2\")"
   ]
  },
  {
   "cell_type": "code",
   "execution_count": null,
   "id": "a26875b2-f431-4932-a279-16c55b60b79c",
   "metadata": {},
   "outputs": [],
   "source": []
  },
  {
   "cell_type": "code",
   "execution_count": null,
   "id": "2dbef106-9861-45fe-9553-fb9e8e4c632f",
   "metadata": {},
   "outputs": [],
   "source": []
  }
 ],
 "metadata": {
  "kernelspec": {
   "display_name": "Python 3 (ipykernel)",
   "language": "python",
   "name": "python3"
  },
  "language_info": {
   "codemirror_mode": {
    "name": "ipython",
    "version": 3
   },
   "file_extension": ".py",
   "mimetype": "text/x-python",
   "name": "python",
   "nbconvert_exporter": "python",
   "pygments_lexer": "ipython3",
   "version": "3.12.4"
  }
 },
 "nbformat": 4,
 "nbformat_minor": 5
}
